{
 "cells": [
  {
   "cell_type": "markdown",
   "id": "57e2a0fa-3949-47c0-9f5b-886fc123dd60",
   "metadata": {},
   "source": [
    "# Sales Analysis"
   ]
  },
  {
   "cell_type": "markdown",
   "id": "eee3ca5b-dddd-4ae2-9645-5787d76ad205",
   "metadata": {},
   "source": [
    "#### Project statement:\n",
    "\n",
    "AAL, established in 2000, is a well-known brand in Australia, particularly recognized for its clothing business. It has opened branches in various states, metropolises, and tier-1 and tier-2 cities across the country. \n",
    "\n",
    "The brand caters to all age groups, from kids to the elderly. \n",
    "\n",
    "Currently experiencing a surge in business, AAL is actively pursuing expansion opportunities. To facilitate informed investment decisions, the CEO has assigned the responsibility to the head of AAL’s sales and marketing (S&M) department. \n",
    "\n",
    "The specific tasks include:\n",
    "1) Identify the states that are generating the highest revenues.\n",
    "2) Develop sales programs for states with lower revenues. The head of sales and marketing has requested your assistance with this task.\n",
    "   \n",
    "Analyze the sales data of the company for the fourth quarter in Australia, examining it on a state-by-state basis. Provide insights to assist the\n",
    "company in making data-driven decisions for the upcoming year."
   ]
  },
  {
   "cell_type": "markdown",
   "id": "b16bc698-6342-423e-be8f-317a92934db5",
   "metadata": {},
   "source": [
    "<br><br>"
   ]
  },
  {
   "cell_type": "markdown",
   "id": "d0695f99-020d-4b4f-98f9-fe7eab91f420",
   "metadata": {},
   "source": [
    "We are going to Perform the following steps:\n",
    "\n",
    "1. Data wrangling\n",
    "2. Data analysis\n",
    "3. Data visualization\n",
    "4. Report generation"
   ]
  },
  {
   "cell_type": "code",
   "execution_count": 11,
   "id": "91b62f3d-2f40-4fd7-9291-0029b29f1d26",
   "metadata": {},
   "outputs": [],
   "source": [
    "import numpy as np\n",
    "import pandas as pd\n",
    "import matplotlib.pyplot as plt\n",
    "import seaborn as sns"
   ]
  },
  {
   "cell_type": "code",
   "execution_count": 21,
   "id": "7c1350f8-fbe7-431c-b5d5-0ccb9ca29117",
   "metadata": {},
   "outputs": [
    {
     "data": {
      "text/html": [
       "<div>\n",
       "<style scoped>\n",
       "    .dataframe tbody tr th:only-of-type {\n",
       "        vertical-align: middle;\n",
       "    }\n",
       "\n",
       "    .dataframe tbody tr th {\n",
       "        vertical-align: top;\n",
       "    }\n",
       "\n",
       "    .dataframe thead th {\n",
       "        text-align: right;\n",
       "    }\n",
       "</style>\n",
       "<table border=\"1\" class=\"dataframe\">\n",
       "  <thead>\n",
       "    <tr style=\"text-align: right;\">\n",
       "      <th></th>\n",
       "      <th>Date</th>\n",
       "      <th>Time</th>\n",
       "      <th>State</th>\n",
       "      <th>Group</th>\n",
       "      <th>Unit</th>\n",
       "      <th>Sales</th>\n",
       "    </tr>\n",
       "  </thead>\n",
       "  <tbody>\n",
       "    <tr>\n",
       "      <th>0</th>\n",
       "      <td>1-Oct-2020</td>\n",
       "      <td>Morning</td>\n",
       "      <td>WA</td>\n",
       "      <td>Kids</td>\n",
       "      <td>8</td>\n",
       "      <td>20000</td>\n",
       "    </tr>\n",
       "    <tr>\n",
       "      <th>1</th>\n",
       "      <td>1-Oct-2020</td>\n",
       "      <td>Morning</td>\n",
       "      <td>WA</td>\n",
       "      <td>Men</td>\n",
       "      <td>8</td>\n",
       "      <td>20000</td>\n",
       "    </tr>\n",
       "    <tr>\n",
       "      <th>2</th>\n",
       "      <td>1-Oct-2020</td>\n",
       "      <td>Morning</td>\n",
       "      <td>WA</td>\n",
       "      <td>Women</td>\n",
       "      <td>4</td>\n",
       "      <td>10000</td>\n",
       "    </tr>\n",
       "    <tr>\n",
       "      <th>3</th>\n",
       "      <td>1-Oct-2020</td>\n",
       "      <td>Morning</td>\n",
       "      <td>WA</td>\n",
       "      <td>Seniors</td>\n",
       "      <td>15</td>\n",
       "      <td>37500</td>\n",
       "    </tr>\n",
       "    <tr>\n",
       "      <th>4</th>\n",
       "      <td>1-Oct-2020</td>\n",
       "      <td>Afternoon</td>\n",
       "      <td>WA</td>\n",
       "      <td>Kids</td>\n",
       "      <td>3</td>\n",
       "      <td>7500</td>\n",
       "    </tr>\n",
       "  </tbody>\n",
       "</table>\n",
       "</div>"
      ],
      "text/plain": [
       "         Date       Time State    Group  Unit  Sales\n",
       "0  1-Oct-2020    Morning    WA     Kids     8  20000\n",
       "1  1-Oct-2020    Morning    WA      Men     8  20000\n",
       "2  1-Oct-2020    Morning    WA    Women     4  10000\n",
       "3  1-Oct-2020    Morning    WA  Seniors    15  37500\n",
       "4  1-Oct-2020  Afternoon    WA     Kids     3   7500"
      ]
     },
     "execution_count": 21,
     "metadata": {},
     "output_type": "execute_result"
    }
   ],
   "source": [
    "#importing data\n",
    "df=pd.read_csv('AusApparalSales4thQrt2020.csv')\n",
    "df.columns = df.columns.str.strip() #for removing leading and trailing white spaces from column header.\n",
    "df = df.apply(lambda x: x.str.strip() if x.dtype == \"object\" else x) #This line removes leading and trailing whitespace from the data in all columns that contain string data.\n",
    "df.head()"
   ]
  },
  {
   "cell_type": "code",
   "execution_count": 23,
   "id": "1b9e30f6-7fa9-4ef7-aaa3-c8f2c1f32758",
   "metadata": {},
   "outputs": [
    {
     "name": "stdout",
     "output_type": "stream",
     "text": [
      "<class 'pandas.core.frame.DataFrame'>\n",
      "RangeIndex: 7560 entries, 0 to 7559\n",
      "Data columns (total 6 columns):\n",
      " #   Column  Non-Null Count  Dtype \n",
      "---  ------  --------------  ----- \n",
      " 0   Date    7560 non-null   object\n",
      " 1   Time    7560 non-null   object\n",
      " 2   State   7560 non-null   object\n",
      " 3   Group   7560 non-null   object\n",
      " 4   Unit    7560 non-null   int64 \n",
      " 5   Sales   7560 non-null   int64 \n",
      "dtypes: int64(2), object(4)\n",
      "memory usage: 354.5+ KB\n"
     ]
    }
   ],
   "source": [
    "#check data-types\n",
    "df.info()"
   ]
  },
  {
   "cell_type": "markdown",
   "id": "df62403c-f81e-4a50-a863-28fb21562cd5",
   "metadata": {},
   "source": [
    "## 1. Data Wrangling -"
   ]
  },
  {
   "cell_type": "markdown",
   "id": "567c44dc-bf69-4202-af50-c8d1c348dfe5",
   "metadata": {},
   "source": [
    "a. Ensure that the data is clean and free from any missing or incorrect entries.\n",
    "\n",
    "   Inspect the data manually to identify missing or incorrect information using the functions isna() and notna()"
   ]
  },
  {
   "cell_type": "code",
   "execution_count": 27,
   "id": "4b216970-8506-4745-9dc3-e5cea9488660",
   "metadata": {},
   "outputs": [
    {
     "data": {
      "text/html": [
       "<div>\n",
       "<style scoped>\n",
       "    .dataframe tbody tr th:only-of-type {\n",
       "        vertical-align: middle;\n",
       "    }\n",
       "\n",
       "    .dataframe tbody tr th {\n",
       "        vertical-align: top;\n",
       "    }\n",
       "\n",
       "    .dataframe thead th {\n",
       "        text-align: right;\n",
       "    }\n",
       "</style>\n",
       "<table border=\"1\" class=\"dataframe\">\n",
       "  <thead>\n",
       "    <tr style=\"text-align: right;\">\n",
       "      <th></th>\n",
       "      <th>Date</th>\n",
       "      <th>Time</th>\n",
       "      <th>State</th>\n",
       "      <th>Group</th>\n",
       "      <th>Unit</th>\n",
       "      <th>Sales</th>\n",
       "    </tr>\n",
       "  </thead>\n",
       "  <tbody>\n",
       "    <tr>\n",
       "      <th>0</th>\n",
       "      <td>False</td>\n",
       "      <td>False</td>\n",
       "      <td>False</td>\n",
       "      <td>False</td>\n",
       "      <td>False</td>\n",
       "      <td>False</td>\n",
       "    </tr>\n",
       "    <tr>\n",
       "      <th>1</th>\n",
       "      <td>False</td>\n",
       "      <td>False</td>\n",
       "      <td>False</td>\n",
       "      <td>False</td>\n",
       "      <td>False</td>\n",
       "      <td>False</td>\n",
       "    </tr>\n",
       "    <tr>\n",
       "      <th>2</th>\n",
       "      <td>False</td>\n",
       "      <td>False</td>\n",
       "      <td>False</td>\n",
       "      <td>False</td>\n",
       "      <td>False</td>\n",
       "      <td>False</td>\n",
       "    </tr>\n",
       "    <tr>\n",
       "      <th>3</th>\n",
       "      <td>False</td>\n",
       "      <td>False</td>\n",
       "      <td>False</td>\n",
       "      <td>False</td>\n",
       "      <td>False</td>\n",
       "      <td>False</td>\n",
       "    </tr>\n",
       "    <tr>\n",
       "      <th>4</th>\n",
       "      <td>False</td>\n",
       "      <td>False</td>\n",
       "      <td>False</td>\n",
       "      <td>False</td>\n",
       "      <td>False</td>\n",
       "      <td>False</td>\n",
       "    </tr>\n",
       "    <tr>\n",
       "      <th>...</th>\n",
       "      <td>...</td>\n",
       "      <td>...</td>\n",
       "      <td>...</td>\n",
       "      <td>...</td>\n",
       "      <td>...</td>\n",
       "      <td>...</td>\n",
       "    </tr>\n",
       "    <tr>\n",
       "      <th>7555</th>\n",
       "      <td>False</td>\n",
       "      <td>False</td>\n",
       "      <td>False</td>\n",
       "      <td>False</td>\n",
       "      <td>False</td>\n",
       "      <td>False</td>\n",
       "    </tr>\n",
       "    <tr>\n",
       "      <th>7556</th>\n",
       "      <td>False</td>\n",
       "      <td>False</td>\n",
       "      <td>False</td>\n",
       "      <td>False</td>\n",
       "      <td>False</td>\n",
       "      <td>False</td>\n",
       "    </tr>\n",
       "    <tr>\n",
       "      <th>7557</th>\n",
       "      <td>False</td>\n",
       "      <td>False</td>\n",
       "      <td>False</td>\n",
       "      <td>False</td>\n",
       "      <td>False</td>\n",
       "      <td>False</td>\n",
       "    </tr>\n",
       "    <tr>\n",
       "      <th>7558</th>\n",
       "      <td>False</td>\n",
       "      <td>False</td>\n",
       "      <td>False</td>\n",
       "      <td>False</td>\n",
       "      <td>False</td>\n",
       "      <td>False</td>\n",
       "    </tr>\n",
       "    <tr>\n",
       "      <th>7559</th>\n",
       "      <td>False</td>\n",
       "      <td>False</td>\n",
       "      <td>False</td>\n",
       "      <td>False</td>\n",
       "      <td>False</td>\n",
       "      <td>False</td>\n",
       "    </tr>\n",
       "  </tbody>\n",
       "</table>\n",
       "<p>7560 rows × 6 columns</p>\n",
       "</div>"
      ],
      "text/plain": [
       "       Date   Time  State  Group   Unit  Sales\n",
       "0     False  False  False  False  False  False\n",
       "1     False  False  False  False  False  False\n",
       "2     False  False  False  False  False  False\n",
       "3     False  False  False  False  False  False\n",
       "4     False  False  False  False  False  False\n",
       "...     ...    ...    ...    ...    ...    ...\n",
       "7555  False  False  False  False  False  False\n",
       "7556  False  False  False  False  False  False\n",
       "7557  False  False  False  False  False  False\n",
       "7558  False  False  False  False  False  False\n",
       "7559  False  False  False  False  False  False\n",
       "\n",
       "[7560 rows x 6 columns]"
      ]
     },
     "execution_count": 27,
     "metadata": {},
     "output_type": "execute_result"
    }
   ],
   "source": [
    "#Check for missing values\n",
    "df.isna()"
   ]
  },
  {
   "cell_type": "code",
   "execution_count": 29,
   "id": "73055f8a-dc7f-4d84-880a-3c86622b0bc8",
   "metadata": {},
   "outputs": [
    {
     "data": {
      "text/plain": [
       "Date     0\n",
       "Time     0\n",
       "State    0\n",
       "Group    0\n",
       "Unit     0\n",
       "Sales    0\n",
       "dtype: int64"
      ]
     },
     "execution_count": 29,
     "metadata": {},
     "output_type": "execute_result"
    }
   ],
   "source": [
    "#Count of missing values\n",
    "\n",
    "df.isna().sum()"
   ]
  },
  {
   "cell_type": "code",
   "execution_count": 31,
   "id": "53032273-b1d4-4ccf-af08-72a12b273f35",
   "metadata": {},
   "outputs": [
    {
     "data": {
      "text/html": [
       "<div>\n",
       "<style scoped>\n",
       "    .dataframe tbody tr th:only-of-type {\n",
       "        vertical-align: middle;\n",
       "    }\n",
       "\n",
       "    .dataframe tbody tr th {\n",
       "        vertical-align: top;\n",
       "    }\n",
       "\n",
       "    .dataframe thead th {\n",
       "        text-align: right;\n",
       "    }\n",
       "</style>\n",
       "<table border=\"1\" class=\"dataframe\">\n",
       "  <thead>\n",
       "    <tr style=\"text-align: right;\">\n",
       "      <th></th>\n",
       "      <th>Date</th>\n",
       "      <th>Time</th>\n",
       "      <th>State</th>\n",
       "      <th>Group</th>\n",
       "      <th>Unit</th>\n",
       "      <th>Sales</th>\n",
       "    </tr>\n",
       "  </thead>\n",
       "  <tbody>\n",
       "    <tr>\n",
       "      <th>0</th>\n",
       "      <td>True</td>\n",
       "      <td>True</td>\n",
       "      <td>True</td>\n",
       "      <td>True</td>\n",
       "      <td>True</td>\n",
       "      <td>True</td>\n",
       "    </tr>\n",
       "    <tr>\n",
       "      <th>1</th>\n",
       "      <td>True</td>\n",
       "      <td>True</td>\n",
       "      <td>True</td>\n",
       "      <td>True</td>\n",
       "      <td>True</td>\n",
       "      <td>True</td>\n",
       "    </tr>\n",
       "    <tr>\n",
       "      <th>2</th>\n",
       "      <td>True</td>\n",
       "      <td>True</td>\n",
       "      <td>True</td>\n",
       "      <td>True</td>\n",
       "      <td>True</td>\n",
       "      <td>True</td>\n",
       "    </tr>\n",
       "    <tr>\n",
       "      <th>3</th>\n",
       "      <td>True</td>\n",
       "      <td>True</td>\n",
       "      <td>True</td>\n",
       "      <td>True</td>\n",
       "      <td>True</td>\n",
       "      <td>True</td>\n",
       "    </tr>\n",
       "    <tr>\n",
       "      <th>4</th>\n",
       "      <td>True</td>\n",
       "      <td>True</td>\n",
       "      <td>True</td>\n",
       "      <td>True</td>\n",
       "      <td>True</td>\n",
       "      <td>True</td>\n",
       "    </tr>\n",
       "    <tr>\n",
       "      <th>...</th>\n",
       "      <td>...</td>\n",
       "      <td>...</td>\n",
       "      <td>...</td>\n",
       "      <td>...</td>\n",
       "      <td>...</td>\n",
       "      <td>...</td>\n",
       "    </tr>\n",
       "    <tr>\n",
       "      <th>7555</th>\n",
       "      <td>True</td>\n",
       "      <td>True</td>\n",
       "      <td>True</td>\n",
       "      <td>True</td>\n",
       "      <td>True</td>\n",
       "      <td>True</td>\n",
       "    </tr>\n",
       "    <tr>\n",
       "      <th>7556</th>\n",
       "      <td>True</td>\n",
       "      <td>True</td>\n",
       "      <td>True</td>\n",
       "      <td>True</td>\n",
       "      <td>True</td>\n",
       "      <td>True</td>\n",
       "    </tr>\n",
       "    <tr>\n",
       "      <th>7557</th>\n",
       "      <td>True</td>\n",
       "      <td>True</td>\n",
       "      <td>True</td>\n",
       "      <td>True</td>\n",
       "      <td>True</td>\n",
       "      <td>True</td>\n",
       "    </tr>\n",
       "    <tr>\n",
       "      <th>7558</th>\n",
       "      <td>True</td>\n",
       "      <td>True</td>\n",
       "      <td>True</td>\n",
       "      <td>True</td>\n",
       "      <td>True</td>\n",
       "      <td>True</td>\n",
       "    </tr>\n",
       "    <tr>\n",
       "      <th>7559</th>\n",
       "      <td>True</td>\n",
       "      <td>True</td>\n",
       "      <td>True</td>\n",
       "      <td>True</td>\n",
       "      <td>True</td>\n",
       "      <td>True</td>\n",
       "    </tr>\n",
       "  </tbody>\n",
       "</table>\n",
       "<p>7560 rows × 6 columns</p>\n",
       "</div>"
      ],
      "text/plain": [
       "      Date  Time  State  Group  Unit  Sales\n",
       "0     True  True   True   True  True   True\n",
       "1     True  True   True   True  True   True\n",
       "2     True  True   True   True  True   True\n",
       "3     True  True   True   True  True   True\n",
       "4     True  True   True   True  True   True\n",
       "...    ...   ...    ...    ...   ...    ...\n",
       "7555  True  True   True   True  True   True\n",
       "7556  True  True   True   True  True   True\n",
       "7557  True  True   True   True  True   True\n",
       "7558  True  True   True   True  True   True\n",
       "7559  True  True   True   True  True   True\n",
       "\n",
       "[7560 rows x 6 columns]"
      ]
     },
     "execution_count": 31,
     "metadata": {},
     "output_type": "execute_result"
    }
   ],
   "source": [
    "#Another way to identify missing values\n",
    "\n",
    "df.notna()"
   ]
  },
  {
   "cell_type": "code",
   "execution_count": 33,
   "id": "05e6640c-3d33-4ce8-89f7-a7bab18576b1",
   "metadata": {},
   "outputs": [
    {
     "data": {
      "text/plain": [
       "Date     7560\n",
       "Time     7560\n",
       "State    7560\n",
       "Group    7560\n",
       "Unit     7560\n",
       "Sales    7560\n",
       "dtype: int64"
      ]
     },
     "execution_count": 33,
     "metadata": {},
     "output_type": "execute_result"
    }
   ],
   "source": [
    "#Count for non missing values\n",
    "df.notna().sum()"
   ]
  },
  {
   "cell_type": "markdown",
   "id": "23ce99c1-0a6c-4087-9e6b-6c72107a5258",
   "metadata": {},
   "source": [
    "#### We can see above isna().sum() is returning 0 for all columns that means data is not having any missing data \n",
    "#### Similarly We can see notna().sum() also returning the 7560 in all columns which also says there is no column available in our data which has missing values."
   ]
  },
  {
   "cell_type": "markdown",
   "id": "84601242-8558-4223-ad80-d0a5b0583805",
   "metadata": {},
   "source": [
    "<br><br>"
   ]
  },
  {
   "cell_type": "markdown",
   "id": "0d1e65a7-e61b-42b7-be08-07a255a99897",
   "metadata": {},
   "source": [
    "#### b. Based on your knowledge of data analytics, include your recommendations for treating missing and incorrect data (dropping the null values or filling them)\n",
    "\n",
    "#### We don't have missing values but lets put the below functions for showcase purpose."
   ]
  },
  {
   "cell_type": "code",
   "execution_count": 38,
   "id": "15b13f4d-9365-4f58-9f9a-8e89d76606b5",
   "metadata": {},
   "outputs": [
    {
     "data": {
      "text/html": [
       "<div>\n",
       "<style scoped>\n",
       "    .dataframe tbody tr th:only-of-type {\n",
       "        vertical-align: middle;\n",
       "    }\n",
       "\n",
       "    .dataframe tbody tr th {\n",
       "        vertical-align: top;\n",
       "    }\n",
       "\n",
       "    .dataframe thead th {\n",
       "        text-align: right;\n",
       "    }\n",
       "</style>\n",
       "<table border=\"1\" class=\"dataframe\">\n",
       "  <thead>\n",
       "    <tr style=\"text-align: right;\">\n",
       "      <th></th>\n",
       "      <th>Date</th>\n",
       "      <th>Time</th>\n",
       "      <th>State</th>\n",
       "      <th>Group</th>\n",
       "      <th>Unit</th>\n",
       "      <th>Sales</th>\n",
       "    </tr>\n",
       "  </thead>\n",
       "  <tbody>\n",
       "    <tr>\n",
       "      <th>0</th>\n",
       "      <td>1-Oct-2020</td>\n",
       "      <td>Morning</td>\n",
       "      <td>WA</td>\n",
       "      <td>Kids</td>\n",
       "      <td>8</td>\n",
       "      <td>20000</td>\n",
       "    </tr>\n",
       "    <tr>\n",
       "      <th>1</th>\n",
       "      <td>1-Oct-2020</td>\n",
       "      <td>Morning</td>\n",
       "      <td>WA</td>\n",
       "      <td>Men</td>\n",
       "      <td>8</td>\n",
       "      <td>20000</td>\n",
       "    </tr>\n",
       "    <tr>\n",
       "      <th>2</th>\n",
       "      <td>1-Oct-2020</td>\n",
       "      <td>Morning</td>\n",
       "      <td>WA</td>\n",
       "      <td>Women</td>\n",
       "      <td>4</td>\n",
       "      <td>10000</td>\n",
       "    </tr>\n",
       "    <tr>\n",
       "      <th>3</th>\n",
       "      <td>1-Oct-2020</td>\n",
       "      <td>Morning</td>\n",
       "      <td>WA</td>\n",
       "      <td>Seniors</td>\n",
       "      <td>15</td>\n",
       "      <td>37500</td>\n",
       "    </tr>\n",
       "    <tr>\n",
       "      <th>4</th>\n",
       "      <td>1-Oct-2020</td>\n",
       "      <td>Afternoon</td>\n",
       "      <td>WA</td>\n",
       "      <td>Kids</td>\n",
       "      <td>3</td>\n",
       "      <td>7500</td>\n",
       "    </tr>\n",
       "    <tr>\n",
       "      <th>...</th>\n",
       "      <td>...</td>\n",
       "      <td>...</td>\n",
       "      <td>...</td>\n",
       "      <td>...</td>\n",
       "      <td>...</td>\n",
       "      <td>...</td>\n",
       "    </tr>\n",
       "    <tr>\n",
       "      <th>7555</th>\n",
       "      <td>30-Dec-2020</td>\n",
       "      <td>Afternoon</td>\n",
       "      <td>TAS</td>\n",
       "      <td>Seniors</td>\n",
       "      <td>14</td>\n",
       "      <td>35000</td>\n",
       "    </tr>\n",
       "    <tr>\n",
       "      <th>7556</th>\n",
       "      <td>30-Dec-2020</td>\n",
       "      <td>Evening</td>\n",
       "      <td>TAS</td>\n",
       "      <td>Kids</td>\n",
       "      <td>15</td>\n",
       "      <td>37500</td>\n",
       "    </tr>\n",
       "    <tr>\n",
       "      <th>7557</th>\n",
       "      <td>30-Dec-2020</td>\n",
       "      <td>Evening</td>\n",
       "      <td>TAS</td>\n",
       "      <td>Men</td>\n",
       "      <td>15</td>\n",
       "      <td>37500</td>\n",
       "    </tr>\n",
       "    <tr>\n",
       "      <th>7558</th>\n",
       "      <td>30-Dec-2020</td>\n",
       "      <td>Evening</td>\n",
       "      <td>TAS</td>\n",
       "      <td>Women</td>\n",
       "      <td>11</td>\n",
       "      <td>27500</td>\n",
       "    </tr>\n",
       "    <tr>\n",
       "      <th>7559</th>\n",
       "      <td>30-Dec-2020</td>\n",
       "      <td>Evening</td>\n",
       "      <td>TAS</td>\n",
       "      <td>Seniors</td>\n",
       "      <td>13</td>\n",
       "      <td>32500</td>\n",
       "    </tr>\n",
       "  </tbody>\n",
       "</table>\n",
       "<p>7560 rows × 6 columns</p>\n",
       "</div>"
      ],
      "text/plain": [
       "             Date       Time State    Group  Unit  Sales\n",
       "0      1-Oct-2020    Morning    WA     Kids     8  20000\n",
       "1      1-Oct-2020    Morning    WA      Men     8  20000\n",
       "2      1-Oct-2020    Morning    WA    Women     4  10000\n",
       "3      1-Oct-2020    Morning    WA  Seniors    15  37500\n",
       "4      1-Oct-2020  Afternoon    WA     Kids     3   7500\n",
       "...           ...        ...   ...      ...   ...    ...\n",
       "7555  30-Dec-2020  Afternoon   TAS  Seniors    14  35000\n",
       "7556  30-Dec-2020    Evening   TAS     Kids    15  37500\n",
       "7557  30-Dec-2020    Evening   TAS      Men    15  37500\n",
       "7558  30-Dec-2020    Evening   TAS    Women    11  27500\n",
       "7559  30-Dec-2020    Evening   TAS  Seniors    13  32500\n",
       "\n",
       "[7560 rows x 6 columns]"
      ]
     },
     "execution_count": 38,
     "metadata": {},
     "output_type": "execute_result"
    }
   ],
   "source": [
    "#For Dropping the null values\n",
    "df.dropna(axis=0, inplace=True) #this will delete all the rows where any of the column has null values.\n",
    "df"
   ]
  },
  {
   "cell_type": "code",
   "execution_count": 40,
   "id": "1ebc099f-e71b-489f-a5e4-9b503fdf5ee1",
   "metadata": {},
   "outputs": [
    {
     "data": {
      "text/html": [
       "<div>\n",
       "<style scoped>\n",
       "    .dataframe tbody tr th:only-of-type {\n",
       "        vertical-align: middle;\n",
       "    }\n",
       "\n",
       "    .dataframe tbody tr th {\n",
       "        vertical-align: top;\n",
       "    }\n",
       "\n",
       "    .dataframe thead th {\n",
       "        text-align: right;\n",
       "    }\n",
       "</style>\n",
       "<table border=\"1\" class=\"dataframe\">\n",
       "  <thead>\n",
       "    <tr style=\"text-align: right;\">\n",
       "      <th></th>\n",
       "      <th>Unit</th>\n",
       "      <th>Sales</th>\n",
       "    </tr>\n",
       "  </thead>\n",
       "  <tbody>\n",
       "    <tr>\n",
       "      <th>count</th>\n",
       "      <td>7560.000000</td>\n",
       "      <td>7560.000000</td>\n",
       "    </tr>\n",
       "    <tr>\n",
       "      <th>mean</th>\n",
       "      <td>18.005423</td>\n",
       "      <td>45013.558201</td>\n",
       "    </tr>\n",
       "    <tr>\n",
       "      <th>std</th>\n",
       "      <td>12.901403</td>\n",
       "      <td>32253.506944</td>\n",
       "    </tr>\n",
       "    <tr>\n",
       "      <th>min</th>\n",
       "      <td>2.000000</td>\n",
       "      <td>5000.000000</td>\n",
       "    </tr>\n",
       "    <tr>\n",
       "      <th>25%</th>\n",
       "      <td>8.000000</td>\n",
       "      <td>20000.000000</td>\n",
       "    </tr>\n",
       "    <tr>\n",
       "      <th>50%</th>\n",
       "      <td>14.000000</td>\n",
       "      <td>35000.000000</td>\n",
       "    </tr>\n",
       "    <tr>\n",
       "      <th>75%</th>\n",
       "      <td>26.000000</td>\n",
       "      <td>65000.000000</td>\n",
       "    </tr>\n",
       "    <tr>\n",
       "      <th>max</th>\n",
       "      <td>65.000000</td>\n",
       "      <td>162500.000000</td>\n",
       "    </tr>\n",
       "  </tbody>\n",
       "</table>\n",
       "</div>"
      ],
      "text/plain": [
       "              Unit          Sales\n",
       "count  7560.000000    7560.000000\n",
       "mean     18.005423   45013.558201\n",
       "std      12.901403   32253.506944\n",
       "min       2.000000    5000.000000\n",
       "25%       8.000000   20000.000000\n",
       "50%      14.000000   35000.000000\n",
       "75%      26.000000   65000.000000\n",
       "max      65.000000  162500.000000"
      ]
     },
     "execution_count": 40,
     "metadata": {},
     "output_type": "execute_result"
    }
   ],
   "source": [
    "df.describe()"
   ]
  },
  {
   "cell_type": "code",
   "execution_count": 46,
   "id": "435f89e0-5115-4358-8629-456639438873",
   "metadata": {},
   "outputs": [],
   "source": [
    "#We have one more way that is we will put the average of the data in the missing values column.\n",
    "# Replace missing values with the mean just example about Sales Column\n",
    "mean = df['Sales'].mean()\n",
    "df.fillna({'Sales': mean}, inplace=True)"
   ]
  },
  {
   "cell_type": "markdown",
   "id": "4206b6ba-e34b-43bd-9cae-28e10fd1a505",
   "metadata": {},
   "source": [
    "<br><br>"
   ]
  },
  {
   "cell_type": "markdown",
   "id": "61a36171-3b38-4349-a455-180e19b81b51",
   "metadata": {},
   "source": [
    "#### d. Share your insights regarding the application of the GroupBy() function for either data chunking or merging, and offer a recommendation based on your analysis."
   ]
  },
  {
   "cell_type": "code",
   "execution_count": 50,
   "id": "d7e2ca56-6608-4682-80fa-4eb6e5406fe9",
   "metadata": {},
   "outputs": [
    {
     "name": "stdout",
     "output_type": "stream",
     "text": [
      "  State      Sales\n",
      "0   NSW   74970000\n",
      "1    NT   22580000\n",
      "2   QLD   33417500\n",
      "3    SA   58857500\n",
      "4   TAS   22760000\n",
      "5   VIC  105565000\n",
      "6    WA   22152500\n"
     ]
    }
   ],
   "source": [
    "#Lets use group by and find some insights\n",
    "#Sales by State\n",
    "sales_by_state = df.groupby('State')['Sales'].sum().reset_index()\n",
    "print(sales_by_state)"
   ]
  },
  {
   "cell_type": "code",
   "execution_count": 52,
   "id": "69391bdb-5453-47c2-992a-c9b794de9046",
   "metadata": {},
   "outputs": [
    {
     "name": "stdout",
     "output_type": "stream",
     "text": [
      "     Group         Sales\n",
      "0     Kids  45011.904762\n",
      "1      Men  45370.370370\n",
      "2  Seniors  44464.285714\n",
      "3    Women  45207.671958\n"
     ]
    }
   ],
   "source": [
    "#Average Sales accroding to Group\n",
    "avg_sales_to_group = df.groupby('Group')['Sales'].mean().reset_index()\n",
    "print(avg_sales_to_group)"
   ]
  },
  {
   "cell_type": "code",
   "execution_count": 54,
   "id": "e948df1c-059b-4e52-9b4d-29a5b9ee2763",
   "metadata": {},
   "outputs": [
    {
     "name": "stdout",
     "output_type": "stream",
     "text": [
      "     Month      Sales\n",
      "0  2020-10  114290000\n",
      "1  2020-11   90682500\n",
      "2  2020-12  135330000\n"
     ]
    }
   ],
   "source": [
    "# Sales by Month\n",
    "df['Date'] = pd.to_datetime(df['Date'])\n",
    "df['Month'] = df['Date'].dt.to_period('M')\n",
    "sales_by_month = df.groupby('Month')['Sales'].sum().reset_index()\n",
    "print(sales_by_month)"
   ]
  },
  {
   "cell_type": "markdown",
   "id": "6320e2b2-4481-4ce0-a7de-cb30e957c477",
   "metadata": {},
   "source": [
    "<br><br>"
   ]
  },
  {
   "cell_type": "markdown",
   "id": "e832e8df-3ed3-4a70-8530-f1de49a2e8ff",
   "metadata": {},
   "source": [
    "# 2. Data Analysis"
   ]
  },
  {
   "cell_type": "markdown",
   "id": "c533990d-6b82-4e33-b4cd-1ef8f8574492",
   "metadata": {},
   "source": [
    "#### a. Perform descriptive statistical analysis on the data in the Sales and Unit columns"
   ]
  },
  {
   "cell_type": "code",
   "execution_count": 59,
   "id": "1b779c45-448e-4d15-b951-56b5e6ad0f46",
   "metadata": {},
   "outputs": [
    {
     "data": {
      "text/html": [
       "<div>\n",
       "<style scoped>\n",
       "    .dataframe tbody tr th:only-of-type {\n",
       "        vertical-align: middle;\n",
       "    }\n",
       "\n",
       "    .dataframe tbody tr th {\n",
       "        vertical-align: top;\n",
       "    }\n",
       "\n",
       "    .dataframe thead th {\n",
       "        text-align: right;\n",
       "    }\n",
       "</style>\n",
       "<table border=\"1\" class=\"dataframe\">\n",
       "  <thead>\n",
       "    <tr style=\"text-align: right;\">\n",
       "      <th></th>\n",
       "      <th>Unit</th>\n",
       "      <th>Sales</th>\n",
       "    </tr>\n",
       "  </thead>\n",
       "  <tbody>\n",
       "    <tr>\n",
       "      <th>count</th>\n",
       "      <td>7560.000000</td>\n",
       "      <td>7560.000000</td>\n",
       "    </tr>\n",
       "    <tr>\n",
       "      <th>mean</th>\n",
       "      <td>18.005423</td>\n",
       "      <td>45013.558201</td>\n",
       "    </tr>\n",
       "    <tr>\n",
       "      <th>std</th>\n",
       "      <td>12.901403</td>\n",
       "      <td>32253.506944</td>\n",
       "    </tr>\n",
       "    <tr>\n",
       "      <th>min</th>\n",
       "      <td>2.000000</td>\n",
       "      <td>5000.000000</td>\n",
       "    </tr>\n",
       "    <tr>\n",
       "      <th>25%</th>\n",
       "      <td>8.000000</td>\n",
       "      <td>20000.000000</td>\n",
       "    </tr>\n",
       "    <tr>\n",
       "      <th>50%</th>\n",
       "      <td>14.000000</td>\n",
       "      <td>35000.000000</td>\n",
       "    </tr>\n",
       "    <tr>\n",
       "      <th>75%</th>\n",
       "      <td>26.000000</td>\n",
       "      <td>65000.000000</td>\n",
       "    </tr>\n",
       "    <tr>\n",
       "      <th>max</th>\n",
       "      <td>65.000000</td>\n",
       "      <td>162500.000000</td>\n",
       "    </tr>\n",
       "  </tbody>\n",
       "</table>\n",
       "</div>"
      ],
      "text/plain": [
       "              Unit          Sales\n",
       "count  7560.000000    7560.000000\n",
       "mean     18.005423   45013.558201\n",
       "std      12.901403   32253.506944\n",
       "min       2.000000    5000.000000\n",
       "25%       8.000000   20000.000000\n",
       "50%      14.000000   35000.000000\n",
       "75%      26.000000   65000.000000\n",
       "max      65.000000  162500.000000"
      ]
     },
     "execution_count": 59,
     "metadata": {},
     "output_type": "execute_result"
    }
   ],
   "source": [
    "df[['Unit', 'Sales']].describe()"
   ]
  },
  {
   "cell_type": "code",
   "execution_count": 61,
   "id": "3f905948-5a0f-41ec-abcc-548d88375f02",
   "metadata": {},
   "outputs": [
    {
     "name": "stdout",
     "output_type": "stream",
     "text": [
      "   Unit  Sales\n",
      "0     9  22500\n"
     ]
    }
   ],
   "source": [
    "mode = df[['Unit', 'Sales']].mode()\n",
    "print(mode)"
   ]
  },
  {
   "cell_type": "markdown",
   "id": "78730685-24b3-487e-b16d-646b7dd7f385",
   "metadata": {},
   "source": [
    "### b. Identify the group with the highest sales and the group with the lowest sales based on the data provided."
   ]
  },
  {
   "cell_type": "code",
   "execution_count": 64,
   "id": "54654157-b88f-43ff-b72a-3c0dc35273e0",
   "metadata": {},
   "outputs": [
    {
     "name": "stdout",
     "output_type": "stream",
     "text": [
      "Group with Highest Sales:\n",
      "Group         Men\n",
      "Sales    85750000\n",
      "Name: 1, dtype: object\n",
      "\n",
      "Group with Lowest Sales:\n",
      "Group     Seniors\n",
      "Sales    84037500\n",
      "Name: 2, dtype: object\n",
      "\n"
     ]
    }
   ],
   "source": [
    "sales_by_group = df.groupby('Group')['Sales'].sum().reset_index()\n",
    "#print(sales_by_group)\n",
    "highest_sales_group = sales_by_group.loc[sales_by_group['Sales'].idxmax()]\n",
    "lowest_sales_group = sales_by_group.loc[sales_by_group['Sales'].idxmin()]\n",
    "print(f\"Group with Highest Sales:\\n{highest_sales_group}\\n\")\n",
    "print(f\"Group with Lowest Sales:\\n{lowest_sales_group}\\n\")"
   ]
  },
  {
   "cell_type": "markdown",
   "id": "a8af4ba0-7268-416d-b640-a594b984219d",
   "metadata": {},
   "source": [
    "### c.We can also find out which state doing Highest and lowest sales."
   ]
  },
  {
   "cell_type": "code",
   "execution_count": 67,
   "id": "04cdc2f9-9b04-45c6-8d71-00ca584f59bf",
   "metadata": {},
   "outputs": [
    {
     "name": "stdout",
     "output_type": "stream",
     "text": [
      "State with Highest Sales:\n",
      "State          VIC\n",
      "Sales    105565000\n",
      "Name: 5, dtype: object\n",
      "\n",
      "State with Lowest Sales:\n",
      "State          WA\n",
      "Sales    22152500\n",
      "Name: 6, dtype: object\n",
      "\n"
     ]
    }
   ],
   "source": [
    "sales_by_state = df.groupby('State')['Sales'].sum().reset_index()\n",
    "#print(sales_by_state)\n",
    "highest_sales_state = sales_by_state.loc[sales_by_state['Sales'].idxmax()]\n",
    "lowest_sales_state = sales_by_state.loc[sales_by_state['Sales'].idxmin()]\n",
    "print(f\"State with Highest Sales:\\n{highest_sales_state}\\n\")\n",
    "print(f\"State with Lowest Sales:\\n{lowest_sales_state}\\n\")"
   ]
  },
  {
   "cell_type": "markdown",
   "id": "003cc1c5-9e53-4dca-90a2-c4fc4eb2d007",
   "metadata": {},
   "source": [
    "### Let make it little more advance now we want to know which group doing highest and lowest sale in each state."
   ]
  },
  {
   "cell_type": "code",
   "execution_count": 70,
   "id": "41e91ae7-503c-476a-ae0e-bd78101abc41",
   "metadata": {},
   "outputs": [
    {
     "name": "stdout",
     "output_type": "stream",
     "text": [
      "Highest Sales Group Each State:\n",
      "   State  Group     Sales\n",
      "3    NSW  Women  19172500\n",
      "5     NT    Men   5762500\n",
      "8    QLD   Kids   8510000\n",
      "15    SA  Women  14970000\n",
      "16   TAS   Kids   5775000\n",
      "23   VIC  Women  26482500\n",
      "25    WA    Men   5752500\n",
      "\n",
      "Lowest Sales Group Each State:\n",
      "   State    Group     Sales\n",
      "2    NSW  Seniors  18187500\n",
      "6     NT  Seniors   5465000\n",
      "10   QLD  Seniors   8190000\n",
      "12    SA     Kids  14515000\n",
      "19   TAS    Women   5577500\n",
      "22   VIC  Seniors  26315000\n",
      "27    WA    Women   5262500\n",
      "\n"
     ]
    }
   ],
   "source": [
    "sales_by_state_group = df.groupby(['State', 'Group'])['Sales'].sum().reset_index()\n",
    "#print(sales_by_state_group)\n",
    "highest_sales = sales_by_state_group.loc[sales_by_state_group.groupby('State')['Sales'].idxmax()]\n",
    "lowest_sales = sales_by_state_group.loc[sales_by_state_group.groupby('State')['Sales'].idxmin()]\n",
    "print(f\"Highest Sales Group Each State:\\n{highest_sales}\\n\")\n",
    "print(f\"Lowest Sales Group Each State:\\n{lowest_sales}\\n\")"
   ]
  },
  {
   "cell_type": "markdown",
   "id": "eda80d02-a63c-487e-968a-798241e0cc4c",
   "metadata": {},
   "source": [
    "### d.Generate weekly, monthly, and quarterly reports to document and present the results of the analysis conducted"
   ]
  },
  {
   "cell_type": "code",
   "execution_count": 73,
   "id": "d28e0473-f835-419f-8792-2d1f3107a157",
   "metadata": {},
   "outputs": [],
   "source": [
    "df.set_index('Date', inplace=True) # Set date column as index"
   ]
  },
  {
   "cell_type": "code",
   "execution_count": 75,
   "id": "4ec6f665-5921-4fec-bb58-72f09fb851d8",
   "metadata": {},
   "outputs": [
    {
     "name": "stdout",
     "output_type": "stream",
     "text": [
      "\n",
      "Weekly Report:\n",
      "               Sales   Unit\n",
      "Date                       \n",
      "2020-10-04  15045000   6018\n",
      "2020-10-11  27002500  10801\n",
      "2020-10-18  26640000  10656\n",
      "2020-10-25  26815000  10726\n",
      "2020-11-01  21807500   8723\n",
      "2020-11-08  20865000   8346\n",
      "2020-11-15  21172500   8469\n",
      "2020-11-22  21112500   8445\n",
      "2020-11-29  21477500   8591\n",
      "2020-12-06  29622500  11849\n",
      "2020-12-13  31525000  12610\n",
      "2020-12-20  31655000  12662\n",
      "2020-12-27  31770000  12708\n",
      "2021-01-03  13792500   5517\n"
     ]
    }
   ],
   "source": [
    "weekly_report = df.resample('W').agg({'Sales': 'sum', 'Unit': 'sum'})\n",
    "print(\"\\nWeekly Report:\")\n",
    "print(weekly_report)"
   ]
  },
  {
   "cell_type": "code",
   "execution_count": 77,
   "id": "f40fe72b-7c0f-435b-bf6b-1703210a56da",
   "metadata": {},
   "outputs": [
    {
     "name": "stdout",
     "output_type": "stream",
     "text": [
      "\n",
      "Monthly Report:\n",
      "                Sales   Unit\n",
      "Date                        \n",
      "2020-10-31  114290000  45716\n",
      "2020-11-30   90682500  36273\n",
      "2020-12-31  135330000  54132\n"
     ]
    }
   ],
   "source": [
    "monthly_report = df.resample('ME').agg({'Sales': 'sum', 'Unit': 'sum'})\n",
    "print(\"\\nMonthly Report:\")\n",
    "print(monthly_report)"
   ]
  },
  {
   "cell_type": "code",
   "execution_count": 79,
   "id": "d219257b-ef02-4fd2-b806-bff6e2f55e43",
   "metadata": {},
   "outputs": [
    {
     "name": "stdout",
     "output_type": "stream",
     "text": [
      "\n",
      "Quarterly Report:\n",
      "                Sales    Unit\n",
      "Date                         \n",
      "2020-12-31  340302500  136121\n"
     ]
    }
   ],
   "source": [
    "quarterly_report = df.resample('QE').agg({'Sales': 'sum', 'Unit': 'sum'})\n",
    "print(\"\\nQuarterly Report:\")\n",
    "print(quarterly_report)"
   ]
  },
  {
   "cell_type": "markdown",
   "id": "c8b59357-c07e-4916-be1d-ee5416359259",
   "metadata": {},
   "source": [
    "<br><br>"
   ]
  },
  {
   "cell_type": "markdown",
   "id": "15916843-26ff-4baa-9dbb-247135893f24",
   "metadata": {},
   "source": [
    "# 3. Data visualization"
   ]
  },
  {
   "cell_type": "markdown",
   "id": "34bf00fe-2dc1-47af-bdbe-1103510ae0ab",
   "metadata": {},
   "source": [
    "### State-wise sales analysis for different demographic groups (kids, women, men, and seniors)."
   ]
  },
  {
   "cell_type": "code",
   "execution_count": 84,
   "id": "c1d1bea9-69b3-4068-997d-313faa8c38aa",
   "metadata": {},
   "outputs": [
    {
     "data": {
      "image/png": "[encoded data removed]",
      "text/plain": [
       "<Figure size 1000x600 with 1 Axes>"
      ]
     },
     "metadata": {},
     "output_type": "display_data"
    }
   ],
   "source": [
    "#We will use sales_by_state_group which we done while doing which group doing highest and lowest sale in each state.\n",
    "# Create a pivot table for better visualization\n",
    "pivot_table = sales_by_state_group.pivot(index='State', columns='Group', values='Sales') \n",
    "\n",
    "# Plotting\n",
    "plt.figure(figsize=(10, 6))\n",
    "sns.barplot(data=sales_by_state_group, x='State', y='Sales', hue='Group', palette='husl')\n",
    "plt.title('State-wise Sales Analysis for Different Demographic Groups')\n",
    "plt.xlabel('State')\n",
    "plt.ylabel('Total Sales')\n",
    "plt.legend(title='Groups')\n",
    "plt.xticks(rotation=45)\n",
    "plt.tight_layout()\n",
    "\n",
    "# Show the plot\n",
    "plt.show()"
   ]
  },
  {
   "cell_type": "markdown",
   "id": "706c783e-f6d5-4814-ac4d-c64b85335b44",
   "metadata": {},
   "source": [
    "#### As per above graph, we have found out that state VIC is doing maximum sales and generating maximum revenue for AAA. this is first outcome for which we are doing analysis."
   ]
  },
  {
   "cell_type": "code",
   "execution_count": 85,
   "id": "d7103d8e-6877-4dfd-aca4-12e1917e4068",
   "metadata": {},
   "outputs": [
    {
     "data": {
      "image/png": "[encoded data removed]",
      "text/plain": [
       "<Figure size 1200x600 with 1 Axes>"
      ]
     },
     "metadata": {},
     "output_type": "display_data"
    }
   ],
   "source": [
    "plt.figure(figsize=(12, 6))\n",
    "sns.barplot(data=sales_by_group, x='Group', y='Sales', hue='Group')\n",
    "\n",
    "# Customize the plot\n",
    "plt.title('Sales Analysis by Groups')\n",
    "plt.xlabel('Group')\n",
    "plt.ylabel('Total Sales')\n",
    "plt.ylim(82000000, 87000000)\n",
    "plt.show()"
   ]
  },
  {
   "cell_type": "code",
   "execution_count": 86,
   "id": "a733b1d7-5680-4aa4-84d7-30eee8ac20a0",
   "metadata": {},
   "outputs": [
    {
     "data": {
      "image/png": "[encoded data removed]",
      "text/plain": [
       "<Figure size 640x480 with 1 Axes>"
      ]
     },
     "metadata": {},
     "output_type": "display_data"
    },
    {
     "data": {
      "image/png": "[encoded data removed]",
      "text/plain": [
       "<Figure size 640x480 with 1 Axes>"
      ]
     },
     "metadata": {},
     "output_type": "display_data"
    },
    {
     "data": {
      "image/png": "[encoded data removed]",
      "text/plain": [
       "<Figure size 640x480 with 1 Axes>"
      ]
     },
     "metadata": {},
     "output_type": "display_data"
    },
    {
     "data": {
      "image/png": "[encoded data removed]",
      "text/plain": [
       "<Figure size 640x480 with 1 Axes>"
      ]
     },
     "metadata": {},
     "output_type": "display_data"
    }
   ],
   "source": [
    "for i in df['Group'].unique():\n",
    "    sub_group = df[df['Group'] == i].groupby( by = 'State', as_index = False).agg({'Sales':'sum'})\n",
    "\n",
    "    plt.bar(sub_group['State'], sub_group['Sales'])\n",
    "    plt.title(i)\n",
    "    plt.show()"
   ]
  },
  {
   "cell_type": "code",
   "execution_count": 87,
   "id": "9d967356-9c3c-4772-8ce8-c40d880ce3e8",
   "metadata": {},
   "outputs": [
    {
     "data": {
      "image/png": "[encoded data removed]",
      "text/plain": [
       "<Figure size 1000x600 with 1 Axes>"
      ]
     },
     "metadata": {},
     "output_type": "display_data"
    }
   ],
   "source": [
    "sales_by_time = df.groupby('Time')['Sales'].sum().reset_index()\n",
    "plt.figure(figsize=(10, 6))\n",
    "\n",
    "sns.barplot(x='Time', y='Sales', data=sales_by_time, palette='viridis', hue = 'Time')\n",
    "plt.yscale('log')\n",
    "\n",
    "plt.title('Total Sales by Time of Day')\n",
    "plt.xlabel('Time of Day')\n",
    "plt.ylabel('Total Sales')\n",
    "plt.grid(True)\n",
    "\n",
    "plt.show()"
   ]
  },
  {
   "cell_type": "code",
   "execution_count": 117,
   "id": "c4066cea-d4df-4346-88b1-baae99ac2311",
   "metadata": {},
   "outputs": [
    {
     "data": {
      "image/png": "[encoded data removed]",
      "text/plain": [
       "<Figure size 1400x800 with 1 Axes>"
      ]
     },
     "metadata": {},
     "output_type": "display_data"
    }
   ],
   "source": [
    "sales_by_state_time = df.groupby(['State','Time'])['Sales'].sum().reset_index()\n",
    "\n",
    "plt.figure(figsize=(14, 8))\n",
    "\n",
    "sns.lineplot(data=sales_by_state_time, x='Time', y='Sales', hue='State', marker='o', palette='viridis')\n",
    "plt.title('Sales Comparison by Time of Day for Each State')\n",
    "plt.xlabel('Time of Day')\n",
    "plt.ylabel('Total Sales')\n",
    "plt.legend(title='State', bbox_to_anchor=(1.05, 1), loc='upper left')\n",
    "plt.grid(True)\n",
    "plt.tight_layout()\n",
    "plt.show()"
   ]
  },
  {
   "cell_type": "markdown",
   "id": "d1c85470-c60a-49aa-8e24-e3a278b9d0d4",
   "metadata": {},
   "source": [
    "<br><br>"
   ]
  },
  {
   "cell_type": "markdown",
   "id": "9995a968-e2c6-46df-af5e-933993f8b131",
   "metadata": {},
   "source": [
    "### Now lets come to conclusion of our analysis:-\n",
    "\n",
    "### Q1. Identify the states that are generating the highest revenue.\n",
    "\n",
    "Ans - As per State-wise sales analysis for different demographic groups (kids, women, men, and seniors) graph, we have found out that state VIC is doing maximum sales for AAA."
   ]
  },
  {
   "cell_type": "markdown",
   "id": "f0006a5b-2463-48bb-a360-60ac048c7691",
   "metadata": {},
   "source": [
    "### Q2. Develop sales programs for states with lower revenues.\n",
    "\n",
    "Ans:- So, As per analysis TAS, NT, WA, and QLD are among the states with lower sales compared to others. To address this, we would like to recommend implementing marketing campaigns through social media and local events, as well as offering discounts and promotions. Additionally, we could consider organizing sales training programs for employees to improve customer engagement, in case customers aren’t converting once they visit the showroom."
   ]
  },
  {
   "cell_type": "markdown",
   "id": "65317bc5-0298-496d-820a-a77aee8dbb18",
   "metadata": {},
   "source": [
    "Note:- We have also seen that all of the states has lower sales in the evening, we need to organize some events and provide some offers in the evening so, AAA can attract cusotmer in the evening hours as well."
   ]
  }
 ],
 "metadata": {
  "kernelspec": {
   "display_name": "Python 3 (ipykernel)",
   "language": "python",
   "name": "python3"
  },
  "language_info": {
   "codemirror_mode": {
    "name": "ipython",
    "version": 3
   },
   "file_extension": ".py",
   "mimetype": "text/x-python",
   "name": "python",
   "nbconvert_exporter": "python",
   "pygments_lexer": "ipython3",
   "version": "3.12.4"
  }
 },
 "nbformat": 4,
 "nbformat_minor": 5
}
